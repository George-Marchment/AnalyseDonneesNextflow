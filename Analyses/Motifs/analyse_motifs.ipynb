{
 "cells": [
  {
   "cell_type": "code",
   "execution_count": 9,
   "metadata": {},
   "outputs": [],
   "source": [
    "import graphviz\n",
    "from collections import defaultdict\n",
    "import networkx as nx\n",
    "import re\n"
   ]
  },
  {
   "cell_type": "code",
   "execution_count": 10,
   "metadata": {},
   "outputs": [],
   "source": [
    "def extract_edges(graph= 'simple_3/structure_worklow_4'):\n",
    "    dot_graph = nx.nx_pydot.read_dot(graph)\n",
    "    G = [list(dot_graph.nodes), list(dot_graph.edges)]\n",
    "    result = {}\n",
    "    for edge in G[1]:\n",
    "        v1, v2, v3= edge[0], edge[1], edge[2]\n",
    "        result[v1] = []\n",
    "    for edge in G[1]:\n",
    "        v1, v2, v3= edge[0], edge[1], edge[2]\n",
    "        result[v1].append(v2)\n",
    "    for i in result:\n",
    "       result[i]= list(set(result[i]))\n",
    "    return result\n",
    "\n",
    "#tab= extract_edges()"
   ]
  },
  {
   "cell_type": "code",
   "execution_count": 11,
   "metadata": {},
   "outputs": [],
   "source": [
    "def is_in(list, ele):\n",
    "    for i in list:\n",
    "        if(i==ele):\n",
    "            return True\n",
    "    return False"
   ]
  },
  {
   "cell_type": "code",
   "execution_count": 12,
   "metadata": {},
   "outputs": [],
   "source": [
    "def expand(tab):\n",
    "    added=True\n",
    "    while(added):\n",
    "        added=False\n",
    "        for source_A in tab:\n",
    "            #print(source_A)\n",
    "            for gives_A in tab[source_A]:\n",
    "                source_B= gives_A\n",
    "                type_channel= bool(re.match(r\"CHANNEL_\\d+\",source_B))\n",
    "                if(is_in(tab, source_B) and type_channel):\n",
    "                    for gives_B in tab[source_B]:\n",
    "                        if(not is_in(tab[source_A], gives_B)):\n",
    "                            tab[source_A].append(gives_B)\n",
    "                            added=True\n",
    "            #print('')\n",
    "    return tab"
   ]
  },
  {
   "cell_type": "code",
   "execution_count": 13,
   "metadata": {},
   "outputs": [],
   "source": [
    "def remove_channels(tab):\n",
    "    temp_tab= tab.copy()\n",
    "    for source in tab:\n",
    "        type_channel= bool(re.match(r\"CHANNEL_\\d+\",source))\n",
    "        if(type_channel):\n",
    "            temp_tab.pop(source)\n",
    "\n",
    "    tab= temp_tab.copy()\n",
    "    for source in tab:       \n",
    "        temp=tab[source].copy()\n",
    "        for gives in tab[source]:\n",
    "            type_channel= bool(re.match(r\"CHANNEL_\\d+\", gives))\n",
    "            if(type_channel):\n",
    "                temp.remove(gives)\n",
    "        tab[source]= temp.copy()\n",
    "    return tab"
   ]
  },
  {
   "cell_type": "code",
   "execution_count": 14,
   "metadata": {},
   "outputs": [],
   "source": [
    "def make_structure(tab):\n",
    "    dot = graphviz.Digraph(filename='simple_structure', format='png', comment='George and the Penguin'\\\n",
    "        , node_attr={'colorscheme': 'pastel19', 'style': 'filled'})\n",
    "\n",
    "    list_nodes=[]\n",
    "\n",
    "    for source in tab:\n",
    "        if(not is_in(list_nodes, source)):\n",
    "            dot.node(source, source, color= '2', shape='box')\n",
    "            list_nodes.append(source)\n",
    "        for gives in tab[source]:\n",
    "            dot.edge(source, gives)\n",
    "            if(not is_in(list_nodes, gives)):\n",
    "                dot.node(gives, gives, color= '2', shape='box')\n",
    "                list_nodes.append(gives)\n",
    "\n",
    "    dot.render() \n",
    "    return tab, dot"
   ]
  },
  {
   "cell_type": "code",
   "execution_count": 16,
   "metadata": {},
   "outputs": [
    {
     "data": {
      "text/plain": [
       "{'get_test_data': ['q2_import',\n",
       "  'lr_mapping',\n",
       "  'data_integrity',\n",
       "  'prepare_data_for_stats',\n",
       "  'lr_getfasta',\n",
       "  'q2_filtering_tax',\n",
       "  'q2_dada2',\n",
       "  'q2_ancom',\n",
       "  'q2_picrust2_stats',\n",
       "  'q2_dbotu3'],\n",
       " 'data_integrity': ['q2_import',\n",
       "  'q2_dada2',\n",
       "  'q2_ancom',\n",
       "  'q2_picrust2_stats',\n",
       "  'q2_dbotu3',\n",
       "  'prepare_data_for_stats',\n",
       "  'lr_mapping',\n",
       "  'lr_getfasta'],\n",
       " 'q2_import': ['q2_cutadapt'],\n",
       " 'q2_cutadapt': ['q2_dada2'],\n",
       " 'q2_dada2': ['q2_dbotu3',\n",
       "  'q2_filtering_tax',\n",
       "  'q2_taxonomy',\n",
       "  'microDecon_step3',\n",
       "  'q2_picrust2_analysis',\n",
       "  'q2_phylogeny',\n",
       "  'q2_ancom',\n",
       "  'report'],\n",
       " 'q2_dbotu3': ['q2_filtering_tax',\n",
       "  'q2_taxonomy',\n",
       "  'microDecon_step3',\n",
       "  'q2_picrust2_analysis',\n",
       "  'q2_ancom',\n",
       "  'q2_phylogeny',\n",
       "  'report'],\n",
       " 'q2_dada2_merge': ['q2_taxonomy',\n",
       "  'microDecon_step3',\n",
       "  'q2_phylogeny',\n",
       "  'q2_picrust2_analysis',\n",
       "  'q2_ancom',\n",
       "  'report'],\n",
       " 'q2_taxonomy': ['q2_ancom',\n",
       "  'q2_filtering_tax',\n",
       "  'microDecon_step1',\n",
       "  'prepare_data_for_stats'],\n",
       " 'q2_filtering_tax': ['microDecon_step1',\n",
       "  'q2_picrust2_analysis',\n",
       "  'q2_phylogeny',\n",
       "  'q2_ancom',\n",
       "  'prepare_data_for_stats',\n",
       "  'report'],\n",
       " 'microDecon_step1': ['microDecon_step3',\n",
       "  'microDecon_step2',\n",
       "  'prepare_data_for_stats'],\n",
       " 'microDecon_step2': ['q2_ancom', 'q2_picrust2_analysis'],\n",
       " 'microDecon_step3': ['microDecon_step4'],\n",
       " 'microDecon_step4': ['q2_picrust2_analysis', 'q2_phylogeny'],\n",
       " 'lr_mapping': ['lr_get_taxonomy'],\n",
       " 'lr_getfasta': [],\n",
       " 'lr_get_taxonomy': ['prepare_data_for_stats'],\n",
       " 'q2_phylogeny': ['prepare_data_for_stats'],\n",
       " 'q2_picrust2_analysis': ['q2_picrust2_stats'],\n",
       " 'q2_picrust2_stats': ['report'],\n",
       " 'q2_ancom': ['report'],\n",
       " 'prepare_data_for_stats': ['stats_alpha',\n",
       "  'stats_desc_comp',\n",
       "  'stats_beta_rarefied',\n",
       "  'stats_beta_css',\n",
       "  'stats_beta_deseq2',\n",
       "  'report',\n",
       "  'stats_beta'],\n",
       " 'stats_alpha': ['report'],\n",
       " 'stats_beta': ['q2_picrust2_analysis', 'report'],\n",
       " 'stats_beta_rarefied': ['q2_picrust2_analysis', 'report'],\n",
       " 'stats_beta_deseq2': ['q2_picrust2_analysis', 'report'],\n",
       " 'stats_beta_css': ['q2_picrust2_analysis', 'report'],\n",
       " 'stats_desc_comp': ['report'],\n",
       " 'report': ['compress_result']}"
      ]
     },
     "execution_count": 16,
     "metadata": {},
     "output_type": "execute_result"
    }
   ],
   "source": [
    "def simplifer_graph(graph= 'simple_3/structure_worklow_4'):\n",
    "    return make_structure(remove_channels(expand(extract_edges(graph))))\n",
    "\n",
    "graph, dot= simplifer_graph()\n",
    "graph"
   ]
  },
  {
   "cell_type": "code",
   "execution_count": null,
   "metadata": {},
   "outputs": [],
   "source": [
    "#TODO:\n",
    "    - make boolean matrix function "
   ]
  }
 ],
 "metadata": {
  "interpreter": {
   "hash": "916dbcbb3f70747c44a77c7bcd40155683ae19c65e1c03b4aa3499c5328201f1"
  },
  "kernelspec": {
   "display_name": "Python 3.8.10 64-bit",
   "name": "python3"
  },
  "language_info": {
   "codemirror_mode": {
    "name": "ipython",
    "version": 3
   },
   "file_extension": ".py",
   "mimetype": "text/x-python",
   "name": "python",
   "nbconvert_exporter": "python",
   "pygments_lexer": "ipython3",
   "version": "3.8.10"
  }
 },
 "nbformat": 4,
 "nbformat_minor": 2
}
