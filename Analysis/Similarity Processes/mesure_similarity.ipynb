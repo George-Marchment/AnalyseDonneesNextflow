{
 "cells": [
  {
   "cell_type": "markdown",
   "metadata": {},
   "source": [
    "# **Mesure de similarité des Processes Nextflow**"
   ]
  },
  {
   "cell_type": "markdown",
   "metadata": {},
   "source": [
    "#### Une présentation des différents hypothèses de mesure de similarité entre les processes de Nextflow (présentation des idéés + fonctions pour faire fonctionner)"
   ]
  },
  {
   "cell_type": "markdown",
   "metadata": {},
   "source": [
    "Liens utiles :\n",
    "\n",
    "* <ins> Hypothèse 1</ins>:\n",
    "  - https://en.wikipedia.org/wiki/Cosine_similarity\n",
    "  - https://en.wikipedia.org/wiki/Overlap_coefficient\n",
    "  - https://en.wikipedia.org/wiki/S%C3%B8rensen%E2%80%93Dice_coefficient\n",
    "  - https://en.wikipedia.org/wiki/Jaccard_index\n",
    "* <ins> Hypothèse 3</ins>:\n",
    "  - https://fr.wikipedia.org/wiki/Similarit%C3%A9_cosinus\n",
    "  - https://fr.wikipedia.org/wiki/Indice_et_distance_de_Jaccard"
   ]
  },
  {
   "cell_type": "markdown",
   "metadata": {},
   "source": [
    "___"
   ]
  },
  {
   "cell_type": "markdown",
   "metadata": {},
   "source": [
    "## *Récupérer les données & Charger les bibliothèques*"
   ]
  },
  {
   "cell_type": "code",
   "execution_count": 3,
   "metadata": {},
   "outputs": [],
   "source": [
    "import json\n",
    "import pandas as pd\n",
    "import math\n",
    "\n",
    "from sklearn.feature_extraction.text import CountVectorizer\n",
    "from sklearn.feature_extraction.text import TfidfVectorizer\n",
    "from sklearn.metrics.pairwise import cosine_similarity"
   ]
  },
  {
   "cell_type": "code",
   "execution_count": 4,
   "metadata": {},
   "outputs": [],
   "source": [
    "samba= {}\n",
    "with open('/home/george/Bureau/TER/AnalyseDonneesNextflow/Analysis/Similarity Processes/Examples/samba.json') as json_file:\n",
    "    samba = json.load(json_file)\n",
    "\n",
    "eager= {}\n",
    "with open('/home/george/Bureau/TER/AnalyseDonneesNextflow/Analysis/Similarity Processes/Examples/eager.json') as json_file:\n",
    "    eager = json.load(json_file)"
   ]
  },
  {
   "cell_type": "markdown",
   "metadata": {},
   "source": [
    "## *Definition des fonctions auxiliaires*"
   ]
  },
  {
   "cell_type": "code",
   "execution_count": 5,
   "metadata": {},
   "outputs": [],
   "source": [
    "#Fonction qui retourne les éléments d'intersection entre 2 ensembles\n",
    "def intersection(l1, l2):\n",
    "    return list(set(l1) & set(l2))\n",
    "\n",
    "#Fonction qui retourne les éléments d'union entre 2 ensembles\n",
    "def union(l1, l2):\n",
    "    return list(set(l1 + l2))\n"
   ]
  },
  {
   "cell_type": "markdown",
   "metadata": {},
   "source": [
    "## *Definition des fonctions de mesure de similarité entre 2 ensembles*"
   ]
  },
  {
   "cell_type": "code",
   "execution_count": 6,
   "metadata": {},
   "outputs": [],
   "source": [
    "#Indice de Jaccard\n",
    "def jaccard(t1, t2):\n",
    "    num = len(intersection(t1, t2))\n",
    "    if(num==0):\n",
    "        return 0\n",
    "    denum= len(union(t1, t2))\n",
    "    return num/denum\n",
    "\n",
    "#Indice de Sørensen-Dice\n",
    "def soresen(t1, t2):\n",
    "    num = 2*len(intersection(t1, t2))\n",
    "    if(num==0):\n",
    "        return 0\n",
    "    denum= len(t1) + len(t2)\n",
    "    return num/denum\n",
    "\n",
    "#Overlap coefficient\n",
    "def overlap(t1, t2):\n",
    "    num = len(intersection(t1, t2))\n",
    "    if(num==0):\n",
    "        return 0\n",
    "    denum= min(len(t1), len(t2))\n",
    "    return num/denum"
   ]
  },
  {
   "cell_type": "markdown",
   "metadata": {},
   "source": [
    "## *Definition des fonctions de mesure de similarité entre 2 textes*"
   ]
  },
  {
   "cell_type": "code",
   "execution_count": 7,
   "metadata": {},
   "outputs": [],
   "source": [
    "#Similarité cosinus\n",
    "#Fonction inspiré par https://studymachinelearning.com/cosine-similarity-text-similarity-metric/\n",
    "def similarite_cosinus(doc_1, doc_2):\n",
    "    data = [doc_1.lower(), doc_2.lower()]\n",
    "    count_vectorizer = CountVectorizer()\n",
    "    vector_matrix = count_vectorizer.fit_transform(data)\n",
    "\n",
    "    tokens = count_vectorizer.get_feature_names_out()\n",
    "    vector_matrix.toarray()\n",
    "\n",
    "    def create_dataframe(matrix, tokens):\n",
    "\n",
    "        doc_names = [f'doc_{i+1}' for i, _ in enumerate(matrix)]\n",
    "        df = pd.DataFrame(data=matrix, index=doc_names, columns=tokens)\n",
    "        return(df)\n",
    "\n",
    "    create_dataframe(vector_matrix.toarray(),tokens)\n",
    "\n",
    "    cosine_similarity_matrix = cosine_similarity(vector_matrix)\n",
    "\n",
    "    Tfidf_vect = TfidfVectorizer()\n",
    "    vector_matrix = Tfidf_vect.fit_transform(data)\n",
    "\n",
    "    tokens = Tfidf_vect.get_feature_names_out()\n",
    "    create_dataframe(vector_matrix.toarray(),tokens)\n",
    "\n",
    "    cosine_similarity_matrix = cosine_similarity(vector_matrix)\n",
    "    return create_dataframe(cosine_similarity_matrix,['doc_1','doc_2'])['doc_1']['doc_2']\n",
    "\n",
    "#Indice de Jaccard\n",
    "def jaccard_texts(s1, s2):\n",
    "    s1 , s2= s1.lower().split(), s2.lower().split()\n",
    "    num = len(intersection(s1, s2))\n",
    "    if(num==0):\n",
    "        return 0\n",
    "    denum= len(union(s1, s2))\n",
    "    return num/denum"
   ]
  },
  {
   "cell_type": "markdown",
   "metadata": {},
   "source": [
    "___"
   ]
  },
  {
   "cell_type": "markdown",
   "metadata": {},
   "source": [
    "## Hypothèse 1.1 : Identité entre les processes"
   ]
  },
  {
   "cell_type": "markdown",
   "metadata": {},
   "source": [
    "Cette fonction vérifie si les deux processes donné en paramètre sont identique ou pas"
   ]
  },
  {
   "cell_type": "code",
   "execution_count": 8,
   "metadata": {},
   "outputs": [],
   "source": [
    "def H_1_1(p1, p2):\n",
    "    return p1[\"string_process\"].lower() == p2[\"string_process\"].lower()"
   ]
  },
  {
   "cell_type": "markdown",
   "metadata": {},
   "source": [
    "### Exemple :"
   ]
  },
  {
   "cell_type": "code",
   "execution_count": 9,
   "metadata": {},
   "outputs": [
    {
     "data": {
      "text/plain": [
       "True"
      ]
     },
     "execution_count": 9,
     "metadata": {},
     "output_type": "execute_result"
    }
   ],
   "source": [
    "H_1_1(eager['unzip_reference'], eager['unzip_reference'])"
   ]
  },
  {
   "cell_type": "code",
   "execution_count": 10,
   "metadata": {},
   "outputs": [
    {
     "data": {
      "text/plain": [
       "False"
      ]
     },
     "execution_count": 10,
     "metadata": {},
     "output_type": "execute_result"
    }
   ],
   "source": [
    "H_1_1(eager['unzip_reference'], eager['makeBWAIndex'])"
   ]
  },
  {
   "cell_type": "markdown",
   "metadata": {},
   "source": [
    "## Hypothèse 1.2 : Identité entre les scripts"
   ]
  },
  {
   "cell_type": "markdown",
   "metadata": {},
   "source": [
    "Cette fonction vérifie si les script des deux processes donné en paramètre sont identique ou pas"
   ]
  },
  {
   "cell_type": "code",
   "execution_count": 11,
   "metadata": {},
   "outputs": [],
   "source": [
    "def H_1_2(p1, p2):\n",
    "    return p1[\"string_script\"].lower() == p2[\"string_script\"].lower()"
   ]
  },
  {
   "cell_type": "markdown",
   "metadata": {},
   "source": [
    "### Exemple :"
   ]
  },
  {
   "cell_type": "code",
   "execution_count": 12,
   "metadata": {},
   "outputs": [
    {
     "data": {
      "text/plain": [
       "True"
      ]
     },
     "execution_count": 12,
     "metadata": {},
     "output_type": "execute_result"
    }
   ],
   "source": [
    "H_1_2(eager['unzip_reference'], eager['unzip_reference'])"
   ]
  },
  {
   "cell_type": "code",
   "execution_count": 13,
   "metadata": {},
   "outputs": [
    {
     "data": {
      "text/plain": [
       "False"
      ]
     },
     "execution_count": 13,
     "metadata": {},
     "output_type": "execute_result"
    }
   ],
   "source": [
    "H_1_2(eager['unzip_reference'], eager['makeBWAIndex'])"
   ]
  },
  {
   "cell_type": "markdown",
   "metadata": {},
   "source": [
    "## Hypothèse 2.1 : Similarité entre le code des processes"
   ]
  },
  {
   "cell_type": "markdown",
   "metadata": {},
   "source": [
    "Cette fonction donne la mesure de similarité entre les deux processes donné en paramètre avec la fonction de mesure de similarité de texte aussi donné en paramètre"
   ]
  },
  {
   "cell_type": "code",
   "execution_count": 14,
   "metadata": {},
   "outputs": [],
   "source": [
    "def H_2_1(p1, p2, similarity):\n",
    "    return similarity(p1[\"string_process\"], p2[\"string_process\"])"
   ]
  },
  {
   "cell_type": "markdown",
   "metadata": {},
   "source": [
    "### Exemple :"
   ]
  },
  {
   "cell_type": "code",
   "execution_count": 15,
   "metadata": {},
   "outputs": [
    {
     "data": {
      "text/plain": [
       "1.0"
      ]
     },
     "execution_count": 15,
     "metadata": {},
     "output_type": "execute_result"
    }
   ],
   "source": [
    "H_2_1(eager['unzip_reference'], eager['unzip_reference'], jaccard_texts)"
   ]
  },
  {
   "cell_type": "code",
   "execution_count": 16,
   "metadata": {},
   "outputs": [
    {
     "data": {
      "text/plain": [
       "0.15873015873015872"
      ]
     },
     "execution_count": 16,
     "metadata": {},
     "output_type": "execute_result"
    }
   ],
   "source": [
    "H_2_1(eager['unzip_reference'], eager['makeBWAIndex'], jaccard_texts)"
   ]
  },
  {
   "cell_type": "markdown",
   "metadata": {},
   "source": [
    "## Hypothèse 2.2 : Similarité entre les scripts des processes"
   ]
  },
  {
   "cell_type": "markdown",
   "metadata": {},
   "source": [
    "Cette fonction donne la mesure de similarité entre les scripts des deux processes donné en paramètre avec la fonction de mesure de similarité de texte aussi donné en paramètre"
   ]
  },
  {
   "cell_type": "code",
   "execution_count": 17,
   "metadata": {},
   "outputs": [],
   "source": [
    "def H_2_2(p1, p2, similarity):\n",
    "    return similarity(p1[\"string_script\"], p2[\"string_script\"])"
   ]
  },
  {
   "cell_type": "markdown",
   "metadata": {},
   "source": [
    "### Exemple :"
   ]
  },
  {
   "cell_type": "code",
   "execution_count": 18,
   "metadata": {},
   "outputs": [
    {
     "data": {
      "text/plain": [
       "1.0"
      ]
     },
     "execution_count": 18,
     "metadata": {},
     "output_type": "execute_result"
    }
   ],
   "source": [
    "H_2_2(eager['unzip_reference'], eager['unzip_reference'], jaccard_texts)"
   ]
  },
  {
   "cell_type": "code",
   "execution_count": 19,
   "metadata": {},
   "outputs": [
    {
     "data": {
      "text/plain": [
       "0.05"
      ]
     },
     "execution_count": 19,
     "metadata": {},
     "output_type": "execute_result"
    }
   ],
   "source": [
    "H_2_2(eager['unzip_reference'], eager['makeBWAIndex'], jaccard_texts)"
   ]
  },
  {
   "cell_type": "markdown",
   "metadata": {},
   "source": [
    "## Hypothèse 2.3 : Similarité entre les noms des processes"
   ]
  },
  {
   "cell_type": "markdown",
   "metadata": {},
   "source": [
    "Cette fonction donne la mesure de similarité entre les noms des deux processes donné en paramètre avec la fonction de mesure de similarité de texte aussi donné en paramètre"
   ]
  },
  {
   "cell_type": "code",
   "execution_count": 20,
   "metadata": {},
   "outputs": [],
   "source": [
    "def H_2_3(p1, p2, similarity):\n",
    "    return similarity(p1['name_process'], p2['name_process'])"
   ]
  },
  {
   "cell_type": "markdown",
   "metadata": {},
   "source": [
    "### Exemple :"
   ]
  },
  {
   "cell_type": "code",
   "execution_count": 21,
   "metadata": {},
   "outputs": [
    {
     "data": {
      "text/plain": [
       "1.0"
      ]
     },
     "execution_count": 21,
     "metadata": {},
     "output_type": "execute_result"
    }
   ],
   "source": [
    "H_2_3(eager['unzip_reference'], eager['unzip_reference'], jaccard_texts)"
   ]
  },
  {
   "cell_type": "code",
   "execution_count": 22,
   "metadata": {},
   "outputs": [
    {
     "data": {
      "text/plain": [
       "0"
      ]
     },
     "execution_count": 22,
     "metadata": {},
     "output_type": "execute_result"
    }
   ],
   "source": [
    "H_2_3(eager['unzip_reference'], eager['makeBWAIndex'], jaccard_texts)"
   ]
  },
  {
   "cell_type": "markdown",
   "metadata": {},
   "source": [
    "## Hypothèse 3 : Identité des outils bio.tools"
   ]
  },
  {
   "cell_type": "markdown",
   "metadata": {},
   "source": [
    "Cette fonction vérifie si les outils utilisés dans les deux processes sont identiques ou pas"
   ]
  },
  {
   "cell_type": "code",
   "execution_count": 23,
   "metadata": {},
   "outputs": [],
   "source": [
    "def H_3(p1, p2):\n",
    "    return p1['tools'] == p2['tools']"
   ]
  },
  {
   "cell_type": "markdown",
   "metadata": {},
   "source": [
    "### Exemple :"
   ]
  },
  {
   "cell_type": "code",
   "execution_count": 24,
   "metadata": {},
   "outputs": [
    {
     "data": {
      "text/plain": [
       "True"
      ]
     },
     "execution_count": 24,
     "metadata": {},
     "output_type": "execute_result"
    }
   ],
   "source": [
    "H_3(eager['unzip_reference'], eager['unzip_reference'])"
   ]
  },
  {
   "cell_type": "code",
   "execution_count": 25,
   "metadata": {},
   "outputs": [
    {
     "data": {
      "text/plain": [
       "False"
      ]
     },
     "execution_count": 25,
     "metadata": {},
     "output_type": "execute_result"
    }
   ],
   "source": [
    "H_3(eager['unzip_reference'], eager['makeBWAIndex'])"
   ]
  },
  {
   "cell_type": "markdown",
   "metadata": {},
   "source": [
    "## Hypothèse 4.1 : Similarité entre les outils bio.tools"
   ]
  },
  {
   "cell_type": "markdown",
   "metadata": {},
   "source": [
    "Cette fonction mesure la similarité entre l'ensembles des outils utilisés pour les deux processes donné en paramètre, avec la fontion de mesure de similarité d'ensembles aussi donné en paramètre"
   ]
  },
  {
   "cell_type": "code",
   "execution_count": 26,
   "metadata": {},
   "outputs": [],
   "source": [
    "def H_4_1(p1, p2, similarity):\n",
    "    return similarity(p1['tools'], p2['tools'])"
   ]
  },
  {
   "cell_type": "markdown",
   "metadata": {},
   "source": [
    "### Exemple :"
   ]
  },
  {
   "cell_type": "code",
   "execution_count": 27,
   "metadata": {},
   "outputs": [
    {
     "data": {
      "text/plain": [
       "1.0"
      ]
     },
     "execution_count": 27,
     "metadata": {},
     "output_type": "execute_result"
    }
   ],
   "source": [
    "H_4_1(eager['bowtie2'], eager['bowtie2'], jaccard)"
   ]
  },
  {
   "cell_type": "code",
   "execution_count": 28,
   "metadata": {},
   "outputs": [
    {
     "data": {
      "text/plain": [
       "0.16666666666666666"
      ]
     },
     "execution_count": 28,
     "metadata": {},
     "output_type": "execute_result"
    }
   ],
   "source": [
    "H_4_1(eager['bowtie2'], eager['circularmapper'], jaccard)"
   ]
  },
  {
   "cell_type": "markdown",
   "metadata": {},
   "source": [
    "## Hypothèse 4.2 : Similarité entre les outils bio.tools + Nombre de lignes des scripts"
   ]
  },
  {
   "cell_type": "markdown",
   "metadata": {},
   "source": [
    "Cette fonction calcule un score qui revient la moyenne entre la mesure la similarité entre l'ensembles des outils utilisés pour les deux processes donné en paramètre (fonction défini au dessus) et la mesure de similarité entre le nombre de lignes utilisé dans les scripts. La fontion de mesure de similarité d'ensembles est donné en paramètre"
   ]
  },
  {
   "cell_type": "markdown",
   "metadata": {},
   "source": [
    "Pour calculer ce score, on effectue le calcule suivant :\n",
    "\n",
    "$$score =\\begin{cases}\n",
    "\\frac{similarity(p_{1}^{(tools)},\\ p_{2}^{(tools)}) + (1-\\frac{|p_{1}^{(len\\ script)} - p_{2}^{(len\\ script)}|}{max(p_{1}^{(len\\ script)},\\ p_{2}^{(len\\ script)})})}{2}&\\ si\\ similarity(p_{1}^{(tools)},\\ p_{2}^{(tools)}) \\ne 0 \\\\\n",
    "0&\\ sinon\n",
    "\\end{cases}\n",
    "$$"
   ]
  },
  {
   "cell_type": "code",
   "execution_count": 29,
   "metadata": {},
   "outputs": [],
   "source": [
    "def score_length_script(p1, p2):\n",
    "    num = abs(p1['nb_lignes_script'] - p2['nb_lignes_script'])\n",
    "    denum = max(max(p1['nb_lignes_script'], p2['nb_lignes_script']), 1)\n",
    "    return 1 - num/denum"
   ]
  },
  {
   "cell_type": "code",
   "execution_count": 30,
   "metadata": {},
   "outputs": [],
   "source": [
    "def H_4_2(p1, p2, similarity):\n",
    "    if(similarity(p1['tools'], p2['tools'])!=0):\n",
    "        return (similarity(p1['tools'], p2['tools']) + score_length_script(p1, p2))/2\n",
    "    return 0"
   ]
  },
  {
   "cell_type": "markdown",
   "metadata": {},
   "source": [
    "### Exemple :"
   ]
  },
  {
   "cell_type": "code",
   "execution_count": 31,
   "metadata": {},
   "outputs": [
    {
     "data": {
      "text/plain": [
       "1.0"
      ]
     },
     "execution_count": 31,
     "metadata": {},
     "output_type": "execute_result"
    }
   ],
   "source": [
    "H_4_2(eager['bowtie2'], eager['bowtie2'], jaccard)"
   ]
  },
  {
   "cell_type": "code",
   "execution_count": 32,
   "metadata": {},
   "outputs": [
    {
     "data": {
      "text/plain": [
       "0.28144654088050314"
      ]
     },
     "execution_count": 32,
     "metadata": {},
     "output_type": "execute_result"
    }
   ],
   "source": [
    "H_4_2(eager['bowtie2'], eager['circularmapper'], jaccard)"
   ]
  },
  {
   "cell_type": "markdown",
   "metadata": {},
   "source": [
    "## Hypothèse 5.1 : Similarité entre nb d'inputs"
   ]
  },
  {
   "cell_type": "markdown",
   "metadata": {},
   "source": [
    "Fonction qui mesure la similarité entre le nombre d'input des deux processes donné comme paramètres "
   ]
  },
  {
   "cell_type": "code",
   "execution_count": 33,
   "metadata": {},
   "outputs": [],
   "source": [
    "def H_5_1(p1, p2):\n",
    "    num = abs(p1['nb_inputs'] - p2['nb_inputs'])\n",
    "    denum = max(max(p1['nb_inputs'], p2['nb_inputs']), 1)\n",
    "    return 1 - num/denum"
   ]
  },
  {
   "cell_type": "markdown",
   "metadata": {},
   "source": [
    "### Exemple :"
   ]
  },
  {
   "cell_type": "code",
   "execution_count": 34,
   "metadata": {},
   "outputs": [
    {
     "data": {
      "text/plain": [
       "1.0"
      ]
     },
     "execution_count": 34,
     "metadata": {},
     "output_type": "execute_result"
    }
   ],
   "source": [
    "H_5_1(eager['bowtie2'], eager['bowtie2'])"
   ]
  },
  {
   "cell_type": "code",
   "execution_count": 35,
   "metadata": {},
   "outputs": [
    {
     "data": {
      "text/plain": [
       "0.5"
      ]
     },
     "execution_count": 35,
     "metadata": {},
     "output_type": "execute_result"
    }
   ],
   "source": [
    "H_5_1(eager['bowtie2'], eager['circularmapper'])"
   ]
  },
  {
   "cell_type": "markdown",
   "metadata": {},
   "source": [
    "## Hypothèse 5.2 : Similarité entre nb d'output"
   ]
  },
  {
   "cell_type": "markdown",
   "metadata": {},
   "source": [
    "Fonction qui mesure la similarité entre le nombre d'output des deux processes donné comme paramètres"
   ]
  },
  {
   "cell_type": "code",
   "execution_count": 36,
   "metadata": {},
   "outputs": [],
   "source": [
    "def H_5_2(p1, p2):\n",
    "    num = abs(p1['nb_inputs'] - p2['nb_inputs'])\n",
    "    denum = max(max(p1['nb_inputs'], p2['nb_inputs']), 1)\n",
    "    return 1 - num/denum"
   ]
  },
  {
   "cell_type": "markdown",
   "metadata": {},
   "source": [
    "### Exemple :"
   ]
  },
  {
   "cell_type": "code",
   "execution_count": 37,
   "metadata": {},
   "outputs": [
    {
     "data": {
      "text/plain": [
       "1.0"
      ]
     },
     "execution_count": 37,
     "metadata": {},
     "output_type": "execute_result"
    }
   ],
   "source": [
    "H_5_2(eager['bowtie2'], eager['bowtie2'])"
   ]
  },
  {
   "cell_type": "code",
   "execution_count": 38,
   "metadata": {},
   "outputs": [
    {
     "data": {
      "text/plain": [
       "0.5"
      ]
     },
     "execution_count": 38,
     "metadata": {},
     "output_type": "execute_result"
    }
   ],
   "source": [
    "H_5_2(eager['bowtie2'], eager['circularmapper'])"
   ]
  },
  {
   "cell_type": "markdown",
   "metadata": {},
   "source": [
    "___"
   ]
  },
  {
   "cell_type": "markdown",
   "metadata": {},
   "source": [
    "## Mesure euclidienne"
   ]
  },
  {
   "cell_type": "markdown",
   "metadata": {},
   "source": [
    "On défini la fonction suivante qui calcule un score de similarité \"globale\" entre les deux processes donné en paramètres. Pour calculer ce score, on calule d'abord la distance euclidienne normalisé associé aux hypothèses choisi, qu'on transforme ensuite en un score de similarité"
   ]
  },
  {
   "cell_type": "code",
   "execution_count": 39,
   "metadata": {},
   "outputs": [],
   "source": [
    "def mesure_eclidienne(p1, p2):\n",
    "    similarity_text = jaccard_texts\n",
    "    similarity_set = jaccard\n",
    "    h_2_1 = True\n",
    "    h_2_2 = True\n",
    "    h_2_3 = False\n",
    "    h_4_1 = True\n",
    "    h_4_2 = True\n",
    "    h_5_1 = False\n",
    "    h_5_2 = False\n",
    "\n",
    "    num = 0\n",
    "    num += h_2_1 * (1 - H_2_1(p1, p2, similarity_text))**2\n",
    "    num += h_2_2 * (1 - H_2_2(p1, p2, similarity_text))**2\n",
    "    num += h_2_3 * (1 - H_2_3(p1, p2, similarity_text))**2\n",
    "    \n",
    "    num+= h_4_1 * (1 - H_4_1(p1, p2, similarity_set))**2\n",
    "    num+= h_4_2 * (1 - H_4_2(p1, p2, similarity_set))**2\n",
    "\n",
    "    num+= h_5_1 *(1 - H_5_1(p1, p2))**2\n",
    "    num+= h_5_2 *(1 - H_5_2(p1, p2))**2\n",
    "\n",
    "    denum = math.sqrt(h_2_1+h_2_2+h_2_3+h_4_1+h_4_2+h_5_1+h_5_2)\n",
    "\n",
    "    return 1 - (math.sqrt(num)/denum) \n",
    "\n",
    "    \n"
   ]
  },
  {
   "cell_type": "markdown",
   "metadata": {},
   "source": [
    "### Exemple :"
   ]
  },
  {
   "cell_type": "code",
   "execution_count": 40,
   "metadata": {},
   "outputs": [
    {
     "data": {
      "text/plain": [
       "1.0"
      ]
     },
     "execution_count": 40,
     "metadata": {},
     "output_type": "execute_result"
    }
   ],
   "source": [
    "mesure_eclidienne(eager['bowtie2'], eager['bowtie2'])"
   ]
  },
  {
   "cell_type": "code",
   "execution_count": 41,
   "metadata": {},
   "outputs": [
    {
     "data": {
      "text/plain": [
       "0.22315755404237836"
      ]
     },
     "execution_count": 41,
     "metadata": {},
     "output_type": "execute_result"
    }
   ],
   "source": [
    "mesure_eclidienne(eager['bowtie2'], eager['circularmapper'])"
   ]
  },
  {
   "cell_type": "code",
   "execution_count": 86,
   "metadata": {},
   "outputs": [
    {
     "data": {
      "text/plain": [
       "[]"
      ]
     },
     "execution_count": 86,
     "metadata": {},
     "output_type": "execute_result"
    }
   ],
   "source": [
    "\n",
    "eager['adapter_removal']['tools']"
   ]
  },
  {
   "cell_type": "code",
   "execution_count": 43,
   "metadata": {},
   "outputs": [
    {
     "name": "stdout",
     "output_type": "stream",
     "text": [
      "unzip_reference\n",
      "makeBWAIndex\n",
      "makeBT2Index\n",
      "makeFastaIndex\n",
      "makeSeqDict\n",
      "convertBam\n",
      "indexinputbam\n",
      "fastqc\n",
      "fastp\n",
      "adapter_removal\n",
      "post_ar_fastq_trimming\n",
      "lanemerge\n",
      "lanemerge_hostremoval_fastq\n",
      "fastqc_after_clipping\n",
      "bwa\n",
      "bwamem\n",
      "circulargenerator\n",
      "circularmapper\n",
      "bowtie2\n",
      "hostremoval_input_fastq\n",
      "seqtype_merge\n",
      "samtools_flagstat\n",
      "samtools_filter\n",
      "samtools_flagstat_after_filter\n",
      "endorSpy\n",
      "dedup\n",
      "markduplicates\n",
      "library_merge\n",
      "preseq\n",
      "bedtools\n",
      "damageprofiler\n",
      "mapdamage_rescaling\n",
      "pmdtools\n",
      "bam_trim\n",
      "additional_library_merge\n",
      "qualimap\n",
      "genotyping_ug\n",
      "genotyping_hc\n",
      "genotyping_freebayes\n",
      "genotyping_pileupcaller\n",
      "eigenstrat_snp_coverage\n",
      "genotyping_angsd\n",
      "bcftools_stats\n",
      "vcf2genome\n",
      "multivcfanalyzer\n",
      "mtnucratio\n",
      "sexdeterrmine_prep\n",
      "sexdeterrmine\n",
      "nuclear_contamination\n",
      "print_nuclear_contamination\n",
      "metagenomic_complexity_filter\n",
      "malt\n",
      "maltextract\n",
      "decomp_kraken\n",
      "kraken\n",
      "kraken_parse\n",
      "kraken_merge\n",
      "output_documentation\n",
      "get_software_versions\n",
      "multiqc\n"
     ]
    }
   ],
   "source": [
    "for i in eager:\n",
    "    print(i)"
   ]
  }
 ],
 "metadata": {
  "interpreter": {
   "hash": "916dbcbb3f70747c44a77c7bcd40155683ae19c65e1c03b4aa3499c5328201f1"
  },
  "kernelspec": {
   "display_name": "Python 3.8.10 64-bit",
   "name": "python3"
  },
  "language_info": {
   "codemirror_mode": {
    "name": "ipython",
    "version": 3
   },
   "file_extension": ".py",
   "mimetype": "text/x-python",
   "name": "python",
   "nbconvert_exporter": "python",
   "pygments_lexer": "ipython3",
   "version": "3.8.10"
  }
 },
 "nbformat": 4,
 "nbformat_minor": 2
}
