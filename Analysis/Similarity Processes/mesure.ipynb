{
 "cells": [
  {
   "cell_type": "markdown",
   "metadata": {},
   "source": [
    "# **Mesure de similarité des Processes Nextflow**"
   ]
  },
  {
   "cell_type": "markdown",
   "metadata": {},
   "source": [
    "#### Une présentation des différents façon de mesure de similarité entre les processes de Nextflow (présentation des idéés + fonctions pour faire fonctionner)"
   ]
  },
  {
   "cell_type": "markdown",
   "metadata": {},
   "source": [
    "Dans la suite *p1* et *p2* font référencent à des process qui sont lu à partir du fichier json, une exemple sera présenté à la fin pour montrer comment utiliser les fonctions "
   ]
  },
  {
   "cell_type": "markdown",
   "metadata": {},
   "source": [
    "___"
   ]
  },
  {
   "cell_type": "markdown",
   "metadata": {},
   "source": [
    "Usefull links :\n",
    "\n",
    "* <ins> Hypothèse 1</ins>:\n",
    "  - https://en.wikipedia.org/wiki/Cosine_similarity\n",
    "  - https://en.wikipedia.org/wiki/Overlap_coefficient\n",
    "  - https://en.wikipedia.org/wiki/S%C3%B8rensen%E2%80%93Dice_coefficient\n",
    "  - https://en.wikipedia.org/wiki/Jaccard_index\n",
    "* <ins> Hypothèse 3</ins>:\n",
    "  - https://fr.wikipedia.org/wiki/Similarit%C3%A9_cosinus\n",
    "  - https://fr.wikipedia.org/wiki/Indice_et_distance_de_Jaccard"
   ]
  },
  {
   "cell_type": "markdown",
   "metadata": {},
   "source": [
    "___"
   ]
  },
  {
   "cell_type": "markdown",
   "metadata": {},
   "source": [
    "## *Retrieve data & load libraries*"
   ]
  },
  {
   "cell_type": "code",
   "execution_count": null,
   "metadata": {},
   "outputs": [],
   "source": [
    "import json\n",
    "import pandas as pd\n",
    "\n",
    "from sklearn.feature_extraction.text import CountVectorizer\n",
    "from sklearn.feature_extraction.text import TfidfVectorizer\n",
    "from sklearn.metrics.pairwise import cosine_similarity"
   ]
  },
  {
   "cell_type": "code",
   "execution_count": null,
   "metadata": {},
   "outputs": [],
   "source": [
    "samba= {}\n",
    "with open('samba.json') as json_file:\n",
    "    samba = json.load(json_file)\n",
    "\n",
    "eager= {}\n",
    "with open('eager.json') as json_file:\n",
    "    eager = json.load(json_file)"
   ]
  },
  {
   "cell_type": "markdown",
   "metadata": {},
   "source": [
    "____"
   ]
  },
  {
   "cell_type": "markdown",
   "metadata": {},
   "source": [
    "## *Hypothèse 1 : bio.tools*"
   ]
  },
  {
   "cell_type": "markdown",
   "metadata": {},
   "source": [
    "L'idée ici est de comparé si les bio.tools sont identique entre les deux processes\n",
    "\n",
    "Pour se faire on propose 3 fonctions de score basé sur 3 façons de calcule de similarité : \n",
    "- Jaccard index\n",
    "- Sørensen–Dice coefficient\n",
    "- Overlap coefficient"
   ]
  },
  {
   "cell_type": "code",
   "execution_count": null,
   "metadata": {},
   "outputs": [],
   "source": [
    "def get_tools(p1, p2):\n",
    "    t1 = p1['tools'].lower()\n",
    "    t2 = p2['tools'].lower()\n",
    "    return t1, t2 "
   ]
  },
  {
   "cell_type": "markdown",
   "metadata": {},
   "source": [
    "### 1. <ins>Jaccard index</ins>\n",
    "\n",
    "L'indice de Jaccard (ou coefficient de Jaccard) est le rapport entre le cardinal de l'intersection des ensembles considérés et le cardinal de l'union des ensembles. Il permet d'évaluer la similarité entre les ensembles. Soit deux ensembles $A$ et $B$, l'indice est :\n",
    "\n",
    "$$ J(A,B) = \\frac{|A \\cap B|}{|A \\cup B|}.$$"
   ]
  },
  {
   "cell_type": "code",
   "execution_count": null,
   "metadata": {},
   "outputs": [],
   "source": [
    "def intersection(l1, l2):\n",
    "    return list(set(l1) & set(l2))\n",
    "\n",
    "def union(l1, l2):\n",
    "    return list(set(l1 + l2))\n",
    "\n",
    "def min(a, b):\n",
    "    if(a<b):\n",
    "        return a\n",
    "    return b"
   ]
  },
  {
   "cell_type": "code",
   "execution_count": null,
   "metadata": {},
   "outputs": [],
   "source": [
    "def jaccard_tools(p1, p2):\n",
    "    t1, t2 = get_tools(p1, p2)\n",
    "    num = len(intersection(t1, t2))\n",
    "    if(num==0):\n",
    "        return 0\n",
    "    denum= len(union(t1, t2))\n",
    "    return num/denum"
   ]
  },
  {
   "cell_type": "markdown",
   "metadata": {},
   "source": [
    "### 2. <ins>Sørensen–Dice coefficient</ins>\n",
    "\n",
    "L'indice de Sørensen-Dice est un indicateur statistique qui mesure la similarité de deux échantillons.\n",
    "\n",
    "Pour des ensembles finis quelconques X et Y, l'indice s'exprime par :\n",
    "\n",
    "$$ s = \\frac{2 |X \\cap Y|}{|X| + |Y|}$$\n"
   ]
  },
  {
   "cell_type": "code",
   "execution_count": null,
   "metadata": {},
   "outputs": [],
   "source": [
    "def soresen_tools(p1, p2):\n",
    "    t1, t2 = get_tools(p1, p2)\n",
    "    num = 2*len(intersection(t1, t2))\n",
    "    if(num==0):\n",
    "        return 0\n",
    "    denum= len(t1) + len(t2)\n",
    "    return num/denum"
   ]
  },
  {
   "cell_type": "markdown",
   "metadata": {},
   "source": [
    "### 3. <ins>Overlap coefficient</ins>\n",
    "\n",
    "Le coefficient de chevauchement est une mesure de similarité qui mesure le chevauchement entre deux ensembles finis. Il est défini comme la taille de l'intersection divisée par la plus petite des tailles des deux ensembles :\n",
    "\n",
    "$$ overlap(X,Y) = \\frac{|X \\cap Y|}{min(|X|, |Y|)}.$$\n"
   ]
  },
  {
   "cell_type": "code",
   "execution_count": null,
   "metadata": {},
   "outputs": [],
   "source": [
    "def overlap_tools(p1, p2):\n",
    "    t1, t2 = get_tools(p1, p2)\n",
    "    num = len(intersection(t1, t2))\n",
    "    if(num==0):\n",
    "        return 0\n",
    "    denum= min(len(t1), len(t2))\n",
    "    return num/denum"
   ]
  },
  {
   "cell_type": "markdown",
   "metadata": {},
   "source": [
    "___"
   ]
  },
  {
   "cell_type": "markdown",
   "metadata": {},
   "source": [
    "## *Hypothèse 2 : Identité du code*"
   ]
  },
  {
   "cell_type": "markdown",
   "metadata": {},
   "source": [
    "L'idée ici est de vérifier si les process et les scripts sont les mêmes"
   ]
  },
  {
   "cell_type": "markdown",
   "metadata": {},
   "source": [
    "### *Hypothèse 2.1 : Identité du code du process*"
   ]
  },
  {
   "cell_type": "code",
   "execution_count": null,
   "metadata": {},
   "outputs": [],
   "source": [
    "def identity_process(p1, p2):\n",
    "    return p1[\"string_process\"].lower() == p2[\"string_process\"].lower()"
   ]
  },
  {
   "cell_type": "markdown",
   "metadata": {},
   "source": [
    "### *Hypothèse 2.2 : Identité du code du script*"
   ]
  },
  {
   "cell_type": "code",
   "execution_count": null,
   "metadata": {},
   "outputs": [],
   "source": [
    "def identity_process(p1, p2):\n",
    "    return p1[\"string_script\"].lower() == p2[\"string_script\"].lower()"
   ]
  },
  {
   "cell_type": "markdown",
   "metadata": {},
   "source": [
    "___"
   ]
  },
  {
   "cell_type": "markdown",
   "metadata": {},
   "source": [
    "## *Hypothèse 3 : Similarité du code*"
   ]
  },
  {
   "cell_type": "markdown",
   "metadata": {},
   "source": [
    "Pour mesurer la similarité du code (string du process et string du string), on va utiliser plusieurs méthodes (comme dans le cas de l'hypothèse 1) : \n",
    "- Similarité cosinus\n",
    "- Indice et distance de Jaccard"
   ]
  },
  {
   "cell_type": "markdown",
   "metadata": {},
   "source": [
    "### 0.1 <ins>Similarité cosinus</ins>\n",
    "\n",
    "La similarité cosinus donne la similarité de deux vecteurs à n dimensions en déterminant le cosinus de leur angle. Ce score est fréquemment utilisée en fouille de textes1.\n",
    "\n",
    "Soit deux vecteurs A et B, le cosinus de leur angle θ s'obtient en prenant leur produit scalaire divisé par le produit de leurs normes :\n",
    "\n",
    "$${\\displaystyle \\cos \\theta ={\\frac {\\mathbf {A} \\cdot \\mathbf {B} }{\\|\\mathbf {A} \\|\\|\\mathbf {B} \\|}}}$$"
   ]
  },
  {
   "cell_type": "markdown",
   "metadata": {},
   "source": [
    "Fonctions écrit ci-dessus est basé sur la fonction présenté ici : https://studymachinelearning.com/cosine-similarity-text-similarity-metric/"
   ]
  },
  {
   "cell_type": "code",
   "execution_count": null,
   "metadata": {},
   "outputs": [],
   "source": [
    "def similarite_cosinus(doc_1, doc_2):\n",
    "    data = [doc_1.lower(), doc_2.lower()]\n",
    "    count_vectorizer = CountVectorizer()\n",
    "    vector_matrix = count_vectorizer.fit_transform(data)\n",
    "    vector_matrix\n",
    "\n",
    "    tokens = count_vectorizer.get_feature_names_out()\n",
    "    tokens\n",
    "\n",
    "    vector_matrix.toarray()\n",
    "\n",
    "\n",
    "    def create_dataframe(matrix, tokens):\n",
    "\n",
    "        doc_names = [f'doc_{i+1}' for i, _ in enumerate(matrix)]\n",
    "        df = pd.DataFrame(data=matrix, index=doc_names, columns=tokens)\n",
    "        return(df)\n",
    "\n",
    "    create_dataframe(vector_matrix.toarray(),tokens)\n",
    "\n",
    "    cosine_similarity_matrix = cosine_similarity(vector_matrix)\n",
    "\n",
    "    Tfidf_vect = TfidfVectorizer()\n",
    "    vector_matrix = Tfidf_vect.fit_transform(data)\n",
    "\n",
    "    tokens = Tfidf_vect.get_feature_names_out()\n",
    "    create_dataframe(vector_matrix.toarray(),tokens)\n",
    "\n",
    "    cosine_similarity_matrix = cosine_similarity(vector_matrix)\n",
    "    return create_dataframe(cosine_similarity_matrix,['doc_1','doc_2'])['doc_1']['doc_2']"
   ]
  },
  {
   "cell_type": "markdown",
   "metadata": {},
   "source": [
    "### 0.2 <ins>Indice et distance de Jaccard</ins>\n",
    "\n",
    "L'indice de Jaccard (ou coefficient de Jaccard) est le rapport entre le cardinal de l'intersection des ensembles considérés et le cardinal de l'union des ensembles. Il permet d'évaluer la similarité entre les ensembles. Soit deux ensembles $A$ et $B$, l'indice est :\n",
    "\n",
    "$$ J(A,B) = \\frac{|A \\cap B|}{|A \\cup B|}.$$"
   ]
  },
  {
   "cell_type": "code",
   "execution_count": null,
   "metadata": {},
   "outputs": [],
   "source": [
    "def jaccard_texts(s1, s2):\n",
    "    s1 , s2= s1.lower().split(), s2.lower().split()\n",
    "    num = len(intersection(s1, s2))\n",
    "    if(num==0):\n",
    "        return 0\n",
    "    denum= len(union(s1, s2))\n",
    "    return num/denum"
   ]
  },
  {
   "cell_type": "markdown",
   "metadata": {},
   "source": [
    "### *Hypothèse 3.1 : Similarité du code du process*"
   ]
  },
  {
   "cell_type": "markdown",
   "metadata": {},
   "source": [
    "#### *Hypothèse 3.1.1 : Similarité du code du process avec similarité cosinus*"
   ]
  },
  {
   "cell_type": "code",
   "execution_count": null,
   "metadata": {},
   "outputs": [],
   "source": [
    "def similarite_process_cos(p1, p2):\n",
    "    return similarite_cosinus(p1[\"string_process\"], p2[\"string_process\"])"
   ]
  },
  {
   "cell_type": "markdown",
   "metadata": {},
   "source": [
    "#### *Hypothèse 3.1.2 : Similarité du code du process avec Jacard*"
   ]
  },
  {
   "cell_type": "code",
   "execution_count": null,
   "metadata": {},
   "outputs": [],
   "source": [
    "def similarite_process_jacard(p1, p2):\n",
    "    return jaccard_texts(p1[\"string_process\"], p2[\"string_process\"])"
   ]
  },
  {
   "cell_type": "markdown",
   "metadata": {},
   "source": [
    "### *Hypothèse 3.2 : Similarité du code du script*"
   ]
  },
  {
   "cell_type": "markdown",
   "metadata": {},
   "source": [
    "#### *Hypothèse 3.2.1 : Similarité du code du script avec similarité cosinus*"
   ]
  },
  {
   "cell_type": "code",
   "execution_count": null,
   "metadata": {},
   "outputs": [],
   "source": [
    "def similarite_script_cos(p1, p2):\n",
    "    return similarite_cosinus(p1[\"string_script\"], p2[\"string_script\"])"
   ]
  },
  {
   "cell_type": "markdown",
   "metadata": {},
   "source": [
    "#### *Hypothèse 3.2.2 : Similarité du code du script avec Jacard*"
   ]
  },
  {
   "cell_type": "code",
   "execution_count": null,
   "metadata": {},
   "outputs": [],
   "source": [
    "def similarite_script_jacard(p1, p2):\n",
    "    return jaccard_texts(p1[\"string_script\"], p2[\"string_script\"])"
   ]
  },
  {
   "cell_type": "markdown",
   "metadata": {},
   "source": [
    "___"
   ]
  },
  {
   "cell_type": "code",
   "execution_count": null,
   "metadata": {},
   "outputs": [],
   "source": [
    "for i in samba:\n",
    "    for y in eager:\n",
    "        print(f\"{i} - {y} : {similarite_process_cos(samba[i], eager[y])}\")"
   ]
  },
  {
   "cell_type": "markdown",
   "metadata": {},
   "source": [
    "Comment associer ces scores:\n",
    "- Faire du clustering (pour chaque paramètres) => pour vérifier si ces scores sont vraiment 'utiles'"
   ]
  },
  {
   "cell_type": "markdown",
   "metadata": {},
   "source": [
    "Ce qu'il reste à faire en plus :\n",
    "\n",
    "- Formé une nouvelle base plus riche de workflows nextflow \n",
    "- Associé ces hypothèses avec les informations trouvé sur le json pour formé des nouveaux hypothèses pour pouvoir comparé les processes entre eux (il faut des hypothèses fortes et faible)\n",
    "- Crée des hypothèses pour comparé des workflows entre eux\n",
    "- Tester les ensembles des hypothèses sur la base de workflow\n",
    "- Finir boite noir\n",
    "- Documentation\n",
    "- Revoir code\n",
    "- Vérifier l’intégrité des structures\n",
    "- Bien présenté mes analyses dans des notebook \n",
    "- Finir page présentation de github\n",
    "- Mode developpeur pout l'analyzeur pour choisir si on veut tous les fichier ou pas"
   ]
  },
  {
   "cell_type": "markdown",
   "metadata": {},
   "source": []
  }
 ],
 "metadata": {
  "interpreter": {
   "hash": "916dbcbb3f70747c44a77c7bcd40155683ae19c65e1c03b4aa3499c5328201f1"
  },
  "kernelspec": {
   "display_name": "Python 3.8.10 64-bit",
   "name": "python3"
  },
  "language_info": {
   "codemirror_mode": {
    "name": "ipython",
    "version": 3
   },
   "file_extension": ".py",
   "mimetype": "text/x-python",
   "name": "python",
   "nbconvert_exporter": "python",
   "pygments_lexer": "ipython3",
   "version": "3.8.10"
  }
 },
 "nbformat": 4,
 "nbformat_minor": 2
}
